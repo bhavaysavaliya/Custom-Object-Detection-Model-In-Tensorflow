{
 "cells": [
  {
   "cell_type": "code",
   "execution_count": null,
   "metadata": {},
   "outputs": [],
   "source": [
    "from Object_Detection import *\n",
    "import tensorflow as tf\n",
    "image_size = 224            # do not change"
   ]
  },
  {
   "cell_type": "code",
   "execution_count": null,
   "metadata": {},
   "outputs": [],
   "source": [
    "train_dataset_path = \"D:/GIBleeding/shuffled_dataset/train\"\n",
    "valid_dataset_path = \"D:/GIBleeding/shuffled_dataset/val\"\n",
    "num_classes = 1\n",
    "anchors_list = [[60,120],[120,60],[80,80]]"
   ]
  },
  {
   "cell_type": "code",
   "execution_count": null,
   "metadata": {},
   "outputs": [],
   "source": [
    "# creat new model\n",
    "model = get_model(num_classes=num_classes,num_anchors=len(anchors_list))\n",
    "\n",
    "# load saved model\n",
    "# model = get_model(model_path=\"model.keras\")\n",
    "\n",
    "model.summary()"
   ]
  },
  {
   "cell_type": "code",
   "execution_count": null,
   "metadata": {},
   "outputs": [],
   "source": [
    "# generate train and valid dataset\n",
    "train_dataset = generate_dataset(\n",
    "    base_path=train_dataset_path,\n",
    "    total_classes=tf.convert_to_tensor(num_classes,dtype=tf.int32),\n",
    "    image_size=tf.convert_to_tensor(image_size,dtype=tf.float32),\n",
    "    anchors=tf.convert_to_tensor(anchors_list,dtype=tf.float32),\n",
    "    batch_size=4\n",
    ")\n",
    "\n",
    "valid_dataset = generate_dataset(\n",
    "    base_path=valid_dataset_path,\n",
    "    total_classes=tf.convert_to_tensor(num_classes,dtype=tf.int32),\n",
    "    image_size=tf.convert_to_tensor(image_size,tf.float32),\n",
    "    anchors=tf.convert_to_tensor(anchors_list,dtype=tf.float32),\n",
    "    batch_size=4\n",
    ")"
   ]
  },
  {
   "cell_type": "code",
   "execution_count": null,
   "metadata": {},
   "outputs": [],
   "source": [
    "# verify dataset is created or not\n",
    "for x_batch, y_batch in valid_dataset.take(1):\n",
    "    print(f\"x_batch shape: {x_batch.shape}\")\n",
    "    print(f\"y1_batch shape: {y_batch['y1'].shape}\")\n",
    "    print(f\"y2_batch shape: {y_batch['y2'].shape}\")\n",
    "    print(f\"y3_batch shape: {y_batch['y3'].shape}\")"
   ]
  },
  {
   "cell_type": "code",
   "execution_count": null,
   "metadata": {},
   "outputs": [],
   "source": [
    "loss = YoloLoss(anchors=tf.convert_to_tensor(anchors_list,dtype=tf.float32)/224.0)"
   ]
  },
  {
   "cell_type": "code",
   "execution_count": null,
   "metadata": {},
   "outputs": [],
   "source": [
    "model.compile(optimizer='adam', loss={'y1':loss,'y2':loss,'y3':loss})"
   ]
  },
  {
   "cell_type": "code",
   "execution_count": null,
   "metadata": {},
   "outputs": [],
   "source": [
    "model.fit(train_dataset,validation_data=valid_dataset,epochs=100)"
   ]
  }
 ],
 "metadata": {
  "kernelspec": {
   "display_name": "myenv",
   "language": "python",
   "name": "python3"
  },
  "language_info": {
   "codemirror_mode": {
    "name": "ipython",
    "version": 3
   },
   "file_extension": ".py",
   "mimetype": "text/x-python",
   "name": "python",
   "nbconvert_exporter": "python",
   "pygments_lexer": "ipython3",
   "version": "3.9.16"
  }
 },
 "nbformat": 4,
 "nbformat_minor": 2
}
