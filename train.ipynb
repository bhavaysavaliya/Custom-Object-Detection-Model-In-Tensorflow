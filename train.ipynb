{
 "cells": [
  {
   "cell_type": "code",
   "execution_count": 1,
   "metadata": {},
   "outputs": [
    {
     "name": "stdout",
     "output_type": "stream",
     "text": [
      "WARNING:tensorflow:From c:\\Users\\Dell\\anaconda3\\envs\\myenv\\lib\\site-packages\\keras\\src\\losses.py:2976: The name tf.losses.sparse_softmax_cross_entropy is deprecated. Please use tf.compat.v1.losses.sparse_softmax_cross_entropy instead.\n",
      "\n"
     ]
    }
   ],
   "source": [
    "from Object_Detection import *\n",
    "import tensorflow as tf\n",
    "image_size = 224            # do not change"
   ]
  },
  {
   "cell_type": "code",
   "execution_count": 2,
   "metadata": {},
   "outputs": [],
   "source": [
    "train_dataset_path = \"D:/GIBleeding/shuffled_dataset/train\"\n",
    "valid_dataset_path = \"D:/GIBleeding/shuffled_dataset/val\"\n",
    "num_classes = 1\n",
    "anchors_list = [[60,120],[120,60],[80,80]]"
   ]
  },
  {
   "cell_type": "code",
   "execution_count": 3,
   "metadata": {},
   "outputs": [
    {
     "name": "stdout",
     "output_type": "stream",
     "text": [
      "WARNING:tensorflow:From c:\\Users\\Dell\\anaconda3\\envs\\myenv\\lib\\site-packages\\keras\\src\\backend.py:1398: The name tf.executing_eagerly_outside_functions is deprecated. Please use tf.compat.v1.executing_eagerly_outside_functions instead.\n",
      "\n",
      "WARNING:tensorflow:From c:\\Users\\Dell\\anaconda3\\envs\\myenv\\lib\\site-packages\\keras\\src\\layers\\normalization\\batch_normalization.py:979: The name tf.nn.fused_batch_norm is deprecated. Please use tf.compat.v1.nn.fused_batch_norm instead.\n",
      "\n",
      "Model: \"model\"\n",
      "__________________________________________________________________________________________________\n",
      " Layer (type)                Output Shape                 Param #   Connected to                  \n",
      "==================================================================================================\n",
      " input_1 (InputLayer)        [(None, 224, 224, 3)]        0         []                            \n",
      "                                                                                                  \n",
      " P0 (YoloConvLayer)          (None, 112, 112, 64)         2048      ['input_1[0][0]']             \n",
      "                                                                                                  \n",
      " P1 (YoloConvLayer)          (None, 56, 56, 128)          74368     ['P0[0][0]']                  \n",
      "                                                                                                  \n",
      " P2 (YoloC2FLayer)           (None, 56, 56, 128)          85120     ['P1[0][0]']                  \n",
      "                                                                                                  \n",
      " P3 (YoloConvLayer)          (None, 28, 28, 256)          296192    ['P2[0][0]']                  \n",
      "                                                                                                  \n",
      " P4 (YoloC2FLayer)           (None, 28, 28, 256)          534528    ['P3[0][0]']                  \n",
      "                                                                                                  \n",
      " P5 (YoloConvLayer)          (None, 14, 14, 512)          1182208   ['P4[0][0]']                  \n",
      "                                                                                                  \n",
      " P6 (YoloC2FLayer)           (None, 14, 14, 512)          1323520   ['P5[0][0]']                  \n",
      "                                                                                                  \n",
      " P7 (YoloConvLayer)          (None, 7, 7, 768)            3542784   ['P6[0][0]']                  \n",
      "                                                                                                  \n",
      " P8 (YoloC2FLayer)           (None, 7, 7, 1024)           5006336   ['P7[0][0]']                  \n",
      "                                                                                                  \n",
      " up_sampling2d (UpSampling2  (None, 28, 28, 1024)         0         ['P8[0][0]']                  \n",
      " D)                                                                                               \n",
      "                                                                                                  \n",
      " P9 (YoloSPPFLayer)          (None, 7, 7, 1024)           2307891   ['up_sampling2d[0][0]']       \n",
      "                                                          2                                       \n",
      "                                                                                                  \n",
      " P10 (UpSampling2D)          (None, 14, 14, 1024)         0         ['P9[0][0]']                  \n",
      "                                                                                                  \n",
      " tf.concat (TFOpLambda)      (None, 14, 14, 1536)         0         ['P6[0][0]',                  \n",
      "                                                                     'P10[0][0]']                 \n",
      "                                                                                                  \n",
      " P12 (YoloC2FLayer)          (None, 14, 14, 512)          1847808   ['tf.concat[0][0]']           \n",
      "                                                                                                  \n",
      " P13 (UpSampling2D)          (None, 28, 28, 512)          0         ['P12[0][0]']                 \n",
      "                                                                                                  \n",
      " tf.concat_1 (TFOpLambda)    (None, 28, 28, 768)          0         ['P4[0][0]',                  \n",
      "                                                                     'P13[0][0]']                 \n",
      "                                                                                                  \n",
      " P15 (YoloC2FLayer)          (None, 28, 28, 256)          465152    ['tf.concat_1[0][0]']         \n",
      "                                                                                                  \n",
      " P16 (YoloConvLayer)         (None, 14, 14, 256)          591104    ['P15[0][0]']                 \n",
      "                                                                                                  \n",
      " tf.concat_2 (TFOpLambda)    (None, 14, 14, 768)          0         ['P12[0][0]',                 \n",
      "                                                                     'P16[0][0]']                 \n",
      "                                                                                                  \n",
      " P18 (YoloC2FLayer)          (None, 14, 14, 512)          1454592   ['tf.concat_2[0][0]']         \n",
      "                                                                                                  \n",
      " P19 (YoloConvLayer)         (None, 7, 7, 512)            2361856   ['P18[0][0]']                 \n",
      "                                                                                                  \n",
      " tf.concat_3 (TFOpLambda)    (None, 7, 7, 1536)           0         ['P9[0][0]',                  \n",
      "                                                                     'P19[0][0]']                 \n",
      "                                                                                                  \n",
      " y1 (YoloConvLayer)          (None, 28, 28, 18)           4698      ['P15[0][0]']                 \n",
      "                                                                                                  \n",
      " y2 (YoloConvLayer)          (None, 14, 14, 18)           9306      ['P18[0][0]']                 \n",
      "                                                                                                  \n",
      " y3 (YoloConvLayer)          (None, 7, 7, 18)             27738     ['tf.concat_3[0][0]']         \n",
      "                                                                                                  \n",
      "==================================================================================================\n",
      "Total params: 41888270 (159.79 MB)\n",
      "Trainable params: 41845538 (159.63 MB)\n",
      "Non-trainable params: 42732 (166.92 KB)\n",
      "__________________________________________________________________________________________________\n"
     ]
    }
   ],
   "source": [
    "# creat new model\n",
    "model = get_model(num_classes=num_classes,num_anchors=len(anchors_list))\n",
    "\n",
    "# load saved model\n",
    "# model = get_model(model_path=\"model.keras\")\n",
    "\n",
    "model.summary()"
   ]
  },
  {
   "cell_type": "code",
   "execution_count": null,
   "metadata": {},
   "outputs": [],
   "source": [
    "# generate train and valid dataset\n",
    "train_dataset = generate_dataset(\n",
    "    base_path=train_dataset_path,\n",
    "    total_classes=tf.convert_to_tensor(num_classes,dtype=tf.int32),\n",
    "    image_size=tf.convert_to_tensor(image_size,dtype=tf.float32),\n",
    "    anchors=tf.convert_to_tensor(anchors_list,dtype=tf.float32),\n",
    "    batch_size=4\n",
    ")\n",
    "\n",
    "valid_dataset = generate_dataset(\n",
    "    base_path=valid_dataset_path,\n",
    "    total_classes=tf.convert_to_tensor(num_classes,dtype=tf.int32),\n",
    "    image_size=tf.convert_to_tensor(image_size,tf.float32),\n",
    "    anchors=tf.convert_to_tensor(anchors_list,dtype=tf.float32),\n",
    "    batch_size=4\n",
    ")"
   ]
  },
  {
   "cell_type": "code",
   "execution_count": null,
   "metadata": {},
   "outputs": [],
   "source": [
    "# verify dataset is created or not\n",
    "for x_batch, y_batch in valid_dataset.take(1):\n",
    "    print(f\"x_batch shape: {x_batch.shape}\")\n",
    "    print(f\"y1_batch shape: {y_batch['y1'].shape}\")\n",
    "    print(f\"y2_batch shape: {y_batch['y2'].shape}\")\n",
    "    print(f\"y3_batch shape: {y_batch['y3'].shape}\")"
   ]
  },
  {
   "cell_type": "code",
   "execution_count": null,
   "metadata": {},
   "outputs": [],
   "source": [
    "model.compile(optimizer='adam',loss=YoloLoss(anchors_norm=tf.convert_to_tensor(anchors_list,dtype=tf.float32)/224.0))"
   ]
  },
  {
   "cell_type": "code",
   "execution_count": null,
   "metadata": {},
   "outputs": [],
   "source": [
    "model.fit(train_dataset,validation_data=valid_dataset,epochs=2)"
   ]
  }
 ],
 "metadata": {
  "kernelspec": {
   "display_name": "myenv",
   "language": "python",
   "name": "python3"
  },
  "language_info": {
   "codemirror_mode": {
    "name": "ipython",
    "version": 3
   },
   "file_extension": ".py",
   "mimetype": "text/x-python",
   "name": "python",
   "nbconvert_exporter": "python",
   "pygments_lexer": "ipython3",
   "version": "3.9.16"
  }
 },
 "nbformat": 4,
 "nbformat_minor": 2
}
